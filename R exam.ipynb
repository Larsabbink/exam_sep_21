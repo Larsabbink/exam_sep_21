{
 "cells": [
  {
   "cell_type": "markdown",
   "metadata": {},
   "source": [
    "# Exam R\n",
    "Mark Klik & Misja Mikkers\n",
    "\n",
    "# Introduction\n",
    "\n",
    "Before you turn this problem in, make sure everything runs as expected. First, **restart the kernel** (in the menubar, select Kernel$\\rightarrow$Restart) and then **run all cells** (in the menubar, select Cell$\\rightarrow$Run All).\n",
    "\n",
    "Make sure you fill in any place that says `YOUR CODE HERE` or \"YOUR ANSWER HERE\", as well as your name and collaborators below:\n",
    "\n"
   ]
  },
  {
   "cell_type": "code",
   "execution_count": null,
   "metadata": {},
   "outputs": [],
   "source": []
  },
  {
   "cell_type": "code",
   "execution_count": 1,
   "metadata": {},
   "outputs": [],
   "source": [
    "NAME = \"Lars Abbink, #2012129\"\n",
    "COLLABORATORS = \"\""
    ]
  },
  {
   "cell_type": "markdown",
   "metadata": {},
   "source": [
    "Fill in the cell above to provide us with your name and student number, like\n",
    "\n",
    "NAME = \"Adam Smith, #student number#\"\n",
    "\n",
    "where you replace \"#student number#\" with your ... (very good!)\n",
    "\n",
    "Unfortunately, you are not allowed to work with \"COLLABORATORS\" in this exam.\n",
    "\n",
    "## exam September 21th, 2018\n",
    "\n",
    "With this R part of the exam you can earn at max. 4 points.\n",
    "\n",
    "In the first cell of the notebook, give us your name and student number in the way indicated above.\n",
    "\n",
    "Fill in the notebook (see below for code cells and text cells that you need to fill in).\n",
    "\n",
    "If you look at the menus above (File, Edit, View etc.), there is one called \"Cell\". If you click on this, you can change the \"Cell Type\". Choose \"Code\" when you are typing python or R code. Choose \"Markdown\" when you are typing, well, markdown.\n",
    "\n",
    "When you finish the notebook, make sure that you save it with the output of your code included.\n",
    "\n",
    "Then put it on github, e.g. by dragging it onto github (see instructions below).\n",
    "\n",
    "Finally, add a link to your README file with the name of this exam: \"Exam R September 7, 2018\".\n",
    "\n",
    "# Packages\n",
    "\n",
    "You will need the following packages for this exam."
   ]
  },
  {
   "cell_type": "code",
   "execution_count": 34,
   "metadata": {},
   "outputs": [],
   "source": [
    "library(tidyverse)\n"
   ]
  },
  {
   "cell_type": "markdown",
   "metadata": {},
   "source": [
    "# Assignment 1\n",
    "\n",
    "## Data\n",
    "\n",
    "Please read in \"Medicaid.csv\" and check the structure.\n",
    "\n",
    "If needed change the variables Recipients and Total_costs into a numeric variable.\n",
    "\n",
    "Hint: don't forget you cannot change a factor in a numeric variable directly!\n",
    "\n"
   ]
  },
  {
   "cell_type": "code",
   "execution_count": 35,
   "metadata": {},
   "outputs": [],
   "source": [
    "medicaid <- read.csv('Medicaid.csv')" #wist niet hoe ik die factoren om moest zetten
   ]
  },
  {
   "cell_type": "code",
   "execution_count": 36,
   "metadata": {},
   "outputs": [
    {
     "name": "stdout",
     "output_type": "stream",
     "text": [
      "'data.frame':\t13 obs. of  1 variable:\n",
      " $ Year..Recipients.Total_costs: Factor w/ 13 levels \"2003;4267573;36142075737\",..: 1 2 3 4 5 6 7 8 9 10 ...\n"
     ]
    }
   ],
   "source": [
    "str(medicaid)\n"
   ]
  },
  {
   "cell_type": "markdown",
   "metadata": {},
   "source": [
    "\n",
    "\n",
    "## New variable\n",
    "\n",
    "You will now have to make a new variable called \"Cost_per_Recipient\" by dividing the variable \"Total_Costs\" by the variable \"Recipients\". You will have to use the \"pipe-operator\". You have to show the \"head\" of the dataframe."
   ]
  },
  {
   "cell_type": "code",
   "execution_count": 37,
   "metadata": {},
   "outputs": [
    {
     "data": {
      "text/html": [],
      "text/latex": [],
      "text/markdown": [],
      "text/plain": [
       "numeric(0)"
      ]
     },
     "metadata": {},
     "output_type": "display_data"
    }
   ],
   "source": [
    "Cost_per_Recipient <- medicaid$Total_costs / medicaid$Recipients\n",
    "head(Cost_per_Recipient)\n",
    "\n",
    "\n"
   ]
  },
  {
   "cell_type": "markdown",
   "metadata": {},
   "source": [
    "## Plot 1\n",
    "\n",
    "Now you have to make a line plot of the data:\n",
    "\n",
    "* with Year on the x-axis\n",
    "* Cost_per_Recipient on the y-axis\n",
    "* The line should have size 3 and the color \"red\"\n",
    "* The name on the Y axis should be \"Cost per enrollee\"\n",
    "\n",
    "\n"
   ]
  },
  {
   "cell_type": "code",
   "execution_count": 38,
   "metadata": {},
   "outputs": [
    {
     "data": {},
     "metadata": {},
     "output_type": "display_data"
    },
    {
     "data": {
      "image/png": "iVBORw0KGgoAAAANSUhEUgAAA0gAAANICAMAAADKOT/pAAACMVBMVEUAAAABAQECAgIDAwMJ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\n/weYpDbDj7hn2AAAAABJRU5ErkJggg==",
      "text/plain": [
       "plot without title"
      ]
     },
     "metadata": {},
     "output_type": "display_data"
    }
   ],
   "source": [
    " ggplot(medicaid, aes(x = 'Year', y = 'Cost_per_Recipient')) + geom_line(size = 3, color = 'red' )\n"
   ]
  },
  {
   "cell_type": "markdown",
   "metadata": {},
   "source": [
    "End of notebook"
   ]
  },
  {
   "cell_type": "code",
   "execution_count": null,
   "metadata": {},
   "outputs": [],
   "source": []
  }
 ],
 "metadata": {
  "anaconda-cloud": {},
  "kernelspec": {
   "display_name": "R",
   "language": "R",
   "name": "ir"
  },
  "language_info": {
   "codemirror_mode": "r",
   "file_extension": ".r",
   "mimetype": "text/x-r-source",
   "name": "R",
   "pygments_lexer": "r",
   "version": "3.3.3"
  }
 },
 "nbformat": 4,
 "nbformat_minor": 1
}
