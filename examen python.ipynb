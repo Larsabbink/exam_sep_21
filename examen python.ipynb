{
 "cells": [
  {
   "cell_type": "markdown",
   "metadata": {},
   "source": [
    "Before you turn this problem in, make sure everything runs as expected. First, **restart the kernel** (in the menubar, select Kernel$\\rightarrow$Restart) and then **run all cells** (in the menubar, select Cell$\\rightarrow$Run All).\n",
    "\n",
    "Make sure you fill in any place that says `YOUR CODE HERE` or \"YOUR ANSWER HERE\", as well as your name and collaborators below:"
   ]
  },
  {
   "cell_type": "code",
   "execution_count": 84,
   "metadata": {},
   "outputs": [],
   "source": [
    "NAME = \"Lars Abbink, #2012129#\"\n",
    "COLLABORATORS = \"\""
   ]
  },
  {
   "cell_type": "markdown",
   "metadata": {},
   "source": [
    "---"
   ]
  },
  {
   "cell_type": "markdown",
   "metadata": {
    "deletable": false,
    "editable": false,
    "nbgrader": {
     "checksum": "e53eb7da4b90cccdbeb5924177a0d295",
     "grade": false,
     "grade_id": "cell-bace731f185b39bb",
     "locked": true,
     "schema_version": 1,
     "solution": false
    }
   },
   "source": [
    "Fill in the cell above to provide us with your name and student number, like\n",
    "\n",
    "NAME = \"Adam Smith, #student number#\"\n",
    "\n",
    "where you replace \"#student number#\" with your ... (very good!)\n",
    "\n",
    "Unfortunately, you are not allowed to work with \"COLLABORATORS\" in this exam."
   ]
  },
  {
   "cell_type": "markdown",
   "metadata": {
    "deletable": false,
    "editable": false,
    "nbgrader": {
     "checksum": "54f2a7cc5a4285f9082c5f4f2ff532f6",
     "grade": false,
     "grade_id": "cell-895e9a7b94992ec9",
     "locked": true,
     "schema_version": 1,
     "solution": false
    }
   },
   "source": [
    "# exam September 21st, 2018\n",
    "\n",
    "With this python part of the exam you can earn at max. 4 points.\n",
    "\n"
   ]
  },
  {
   "cell_type": "markdown",
   "metadata": {
    "deletable": false,
    "editable": false,
    "nbgrader": {
     "checksum": "611902f9d15318425217ea7c9329d3c4",
     "grade": false,
     "grade_id": "cell-540987818af25557",
     "locked": true,
     "schema_version": 1,
     "solution": false
    }
   },
   "source": [
    "\n",
    "In the first cell of the notebook, give us your name and student number in the way indicated above. \n",
    "\n",
    "Fill in the notebook (see below for code cells and text cells that you need to fill in).\n",
    "\n",
    "If you look at the menus above (File, Edit, View etc.), there is one called \"Cell\". If you click on this, you can change the \"Cell Type\". Choose \"Code\" when you are typing python or R code. Choose \"Markdown\" when you are typing, well, markdown.\n",
    "\n",
    "When you finish the notebook, make sure that you **save it with the output of your code included**. \n",
    "\n",
    "Then put it on github, e.g. by dragging it onto github (see instructions below). \n",
    "\n",
    "Finally, add a link to your README file with the name of this exam: \"Exam September 21, 2018\".\n",
    "\n"
   ]
  },
  {
   "cell_type": "markdown",
   "metadata": {
    "deletable": false,
    "editable": false,
    "nbgrader": {
     "checksum": "fbb9342b1fc9100447270d34e2af2d0b",
     "grade": false,
     "grade_id": "cell-e1cf88cb799f1f43",
     "locked": true,
     "schema_version": 1,
     "solution": false
    }
   },
   "source": [
    "## Generating and plotting data\n",
    "\n",
    "We start by importing the usual libraries."
   ]
  },
  {
   "cell_type": "code",
   "execution_count": 85,
   "metadata": {
    "deletable": false,
    "editable": false,
    "nbgrader": {
     "checksum": "7bd770ef54db47c3b6c8d0e31f6baef6",
     "grade": false,
     "grade_id": "cell-b895769bf40e183a",
     "locked": true,
     "schema_version": 1,
     "solution": false
    }
   },
   "outputs": [],
   "source": [
    "import matplotlib.pyplot as plt\n",
    "import pandas as pd\n",
    "import numpy as np\n",
    "from scipy import optimize\n",
    "%matplotlib inline"
   ]
  },
  {
   "cell_type": "markdown",
   "metadata": {
    "deletable": false,
    "editable": false,
    "nbgrader": {
     "checksum": "1133b2e8cbde213d1adfe10ae743bcb3",
     "grade": false,
     "grade_id": "cell-83284c4090d6de8c",
     "locked": true,
     "schema_version": 1,
     "solution": false
    }
   },
   "source": [
    "#### a) [0.5 point] Explain in words what the following code does. "
   ]
  },
  {
   "cell_type": "code",
   "execution_count": 86,
   "metadata": {
    "deletable": false,
    "editable": false,
    "nbgrader": {
     "checksum": "bc85672d4250f9fa3da40069544edd8a",
     "grade": false,
     "grade_id": "cell-7770128c0a989c60",
     "locked": true,
     "schema_version": 1,
     "solution": false
    }
   },
   "outputs": [],
   "source": [
    "n_observations = 100\n",
    "x = np.random.uniform(0,2,size=n_observations)\n",
    "df = pd.DataFrame({'x': x})"
   ]
  },
  {
   "cell_type": "markdown",
   "metadata": {
    "deletable": false,
    "nbgrader": {
     "checksum": "cae5873581f8c1e95ad12b5596742e37",
     "grade": true,
     "grade_id": "cell-8a5761555a34b60b",
     "locked": false,
     "points": 0.5,
     "schema_version": 1,
     "solution": true
    }
   },
   "source": [
    "YOUR ANSWER HERE: het maakt een uniforme grafiek met lowerbound 0 en uperbound 2, er zijn 100 random gegenereerde getallen (tussen 0 en 2 dus). De laatste regel maakt er een dataframe van met label x en alle getallen die gegenereerd zijn in een collom eronder."
   ]
  },
  {
   "cell_type": "markdown",
   "metadata": {
    "deletable": false,
    "editable": false,
    "nbgrader": {
     "checksum": "30021008cb6073d160066f0435f60950",
     "grade": false,
     "grade_id": "cell-1a9c57d4d1fc34dc",
     "locked": true,
     "schema_version": 1,
     "solution": false
    }
   },
   "source": [
    "Now we are going to add some columns to the dataframe `df`."
   ]
  },
  {
   "cell_type": "markdown",
   "metadata": {
    "deletable": false,
    "editable": false,
    "nbgrader": {
     "checksum": "89171c99b0cc926935c561c0e75d0eef",
     "grade": false,
     "grade_id": "cell-3b8ee172d9950128",
     "locked": true,
     "schema_version": 1,
     "solution": false
    }
   },
   "source": [
    "#### b) [0.5 points] Add two columns to the data frame: (i) column `y` where $y=3*x+5$ and (ii) column `z` where $z = (x-1)^2$."
   ]
  },
  {
   "cell_type": "code",
   "execution_count": 87,
   "metadata": {
    "deletable": false,
    "nbgrader": {
     "checksum": "3b93c97ec42f6da5773b2c6beb2a8ec2",
     "grade": true,
     "grade_id": "cell-a5e7853f661e19b2",
     "locked": false,
     "points": 0.5,
     "schema_version": 1,
     "solution": true
    }
   },
   "outputs": [
    {
     "name": "stdout",
     "output_type": "stream",
     "text": [
      "           x          y         z\n",
      "0   1.706939  10.120818  0.499763\n",
      "1   0.485775   6.457326  0.264427\n",
      "2   0.537734   6.613201  0.213690\n",
      "3   0.598383   6.795148  0.161297\n",
      "4   1.507657   9.522972  0.257716\n",
      "5   1.874544  10.623632  0.764827\n",
      "6   1.594863   9.784589  0.353862\n",
      "7   0.400492   6.201475  0.359410\n",
      "8   0.038074   5.114221  0.925302\n",
      "9   1.747811  10.243434  0.559222\n",
      "10  0.856875   7.570626  0.020485\n",
      "11  0.504812   6.514435  0.245211\n",
      "12  1.250563   8.751689  0.062782\n",
      "13  1.252935   8.758804  0.063976\n",
      "14  0.281469   5.844406  0.516287\n",
      "15  0.126326   5.378978  0.763306\n",
      "16  1.828453  10.485360  0.686335\n",
      "17  1.421207   9.263621  0.177415\n",
      "18  0.677111   7.031333  0.104257\n",
      "19  1.154396   8.463188  0.023838\n",
      "20  0.198960   5.596881  0.641665\n",
      "21  0.859021   7.577062  0.019875\n",
      "22  1.726568  10.179703  0.527901\n",
      "23  1.240055   8.720165  0.057626\n",
      "24  0.750534   7.251601  0.062233\n",
      "25  0.527628   6.582884  0.223135\n",
      "26  1.521341   9.564024  0.271797\n",
      "27  1.909390  10.728171  0.826991\n",
      "28  1.018495   8.055486  0.000342\n",
      "29  1.835151  10.505454  0.697478\n",
      "..       ...        ...       ...\n",
      "70  0.872588   7.617763  0.016234\n",
      "71  0.627901   6.883702  0.138458\n",
      "72  0.527825   6.583475  0.222949\n",
      "73  0.170599   5.511796  0.687906\n",
      "74  0.681341   7.044023  0.101544\n",
      "75  1.213356   8.640067  0.045521\n",
      "76  0.616242   6.848727  0.147270\n",
      "77  1.407671   9.223013  0.166196\n",
      "78  1.200308   8.600924  0.040123\n",
      "79  1.859759  10.579276  0.739185\n",
      "80  0.200349   5.601046  0.639442\n",
      "81  0.332896   5.998688  0.445028\n",
      "82  0.259310   5.777930  0.548622\n",
      "83  1.516781   9.550342  0.267062\n",
      "84  0.584408   6.753224  0.172717\n",
      "85  0.557544   6.672632  0.195767\n",
      "86  0.068327   5.204981  0.868014\n",
      "87  0.374595   6.123786  0.391131\n",
      "88  0.959757   7.879271  0.001619\n",
      "89  1.369699   9.109096  0.136677\n",
      "90  1.454873   9.364620  0.206910\n",
      "91  1.020515   8.061546  0.000421\n",
      "92  1.613848   9.841544  0.376809\n",
      "93  0.213255   5.639766  0.618967\n",
      "94  1.350402   9.051206  0.122781\n",
      "95  1.002168   8.006505  0.000005\n",
      "96  0.319760   5.959280  0.462727\n",
      "97  1.029159   8.087476  0.000850\n",
      "98  0.972448   7.917345  0.000759\n",
      "99  1.276006   8.828017  0.076179\n",
      "\n",
      "[100 rows x 3 columns]\n"
     ]
    }
   ],
   "source": [
    "# YOUR CODE HERE\n",
    "df['y'] = 3*x+5\n",
    "df['z'] = (x-1)**2\n",
    "print(df)\n"
   ]
  },
  {
   "cell_type": "markdown",
   "metadata": {
    "deletable": false,
    "editable": false,
    "nbgrader": {
     "checksum": "42f4e83dc3792b0d2a08cda8eb7d4405",
     "grade": false,
     "grade_id": "cell-4b33762aa4a601fe",
     "locked": true,
     "schema_version": 1,
     "solution": false
    }
   },
   "source": [
    "#### c) [0.5 point] Calculate the means and standard deviations for `x` and `y`. \n",
    "\n",
    "[hint: you can do this with one command or with four separate commands]"
   ]
  },
  {
   "cell_type": "code",
   "execution_count": 88,
   "metadata": {
    "deletable": false,
    "nbgrader": {
     "checksum": "024a1519155d681b57c85292df535a65",
     "grade": true,
     "grade_id": "cell-5ee215676b91f504",
     "locked": false,
     "points": 0.5,
     "schema_version": 1,
     "solution": true
    }
   },
   "outputs": [
    {
     "name": "stdout",
     "output_type": "stream",
     "text": [
      "0.5541339360416951\n",
      "0.9537175153407011\n",
      "1.662401808125085\n",
      "7.8611525460221\n"
     ]
    }
   ],
   "source": [
    "# YOUR CODE HERE\n",
    "print(np.std(x))   #standard deviation x\n",
    "print(np.mean(x))  #mean x\n",
    "print(np.std(df['y'])) #standard deviation y\n",
    "print(np.mean(df['y'])) #mean y\n",
    "\n"
   ]
  },
  {
   "cell_type": "markdown",
   "metadata": {
    "deletable": false,
    "editable": false,
    "nbgrader": {
     "checksum": "12a2717f05680c0404067457f21dacc5",
     "grade": false,
     "grade_id": "cell-3cc076ae39753881",
     "locked": true,
     "schema_version": 1,
     "solution": false
    }
   },
   "source": [
    "#### d) [0.5 points] Use your knowledge of statistics to explain the relations (i) between the means of `x` and `y` and (ii) between the standard deviations of `x` and `y`."
   ]
  },
  {
   "cell_type": "markdown",
   "metadata": {
    "deletable": false,
    "nbgrader": {
     "checksum": "6ac5f7f87f79a5a580298b70eb6603c6",
     "grade": true,
     "grade_id": "cell-0f18e4fded25833f",
     "locked": false,
     "points": 0.5,
     "schema_version": 1,
     "solution": true
    }
   },
   "source": [
    "(i) de mean is de som van alle metingen gedeeld door het aantal metingen. Omdat bij y: x * 3 + 5 gebruikt is, is de mean van y ook 3 * mean(x) + 5\n",
    "\n",
    "(ii)omdat de standard deviation voor een uniforme distributie gelijk is aan: (b-a)/(12)^0,5, en bij x b gelijk is aan 2 en a gelijk is aan 0. Is de standard diviation hier normaal gelijk aan 0.5773502 en dat ligt dicht bij de gegevens die hier uit komen. Omdat de formule x*3 + 5 word gebruikt verschuiven de grensen van a en b, die worden nu 11 en 5. ligt deze standard diviation ongeveer bij de 1.732050 ligt wat ook het geval is."
   ]
  },
  {
   "cell_type": "markdown",
   "metadata": {},
   "source": [
    "#### e) [1 point] Plot a histogram of `x` with fractions (not absolute numbers) on the vertical axis. Add the label $x$ to the horizontal axis."
   ]
  },
  {
   "cell_type": "code",
   "execution_count": 95,
   "metadata": {
    "deletable": false,
    "nbgrader": {
     "checksum": "0f23770a6c058f433beccc75429b57dc",
     "grade": true,
     "grade_id": "cell-e88dc4842fb2c38c",
     "locked": false,
     "points": 1,
     "schema_version": 1,
     "solution": true
    }
   },
   "outputs": [
    {
     "data": {
      "image/png": "[encoded data removed]",
      "text/plain": [
       "<matplotlib.figure.Figure at 0x26c73fb95c0>"
      ]
     },
     "metadata": {},
     "output_type": "display_data"
    }
   ],
   "source": [
    "histogram = plt.hist(x, 10, density = True) #maakt gebruik van gegevens van x, heeft 10 balken, density = True nu heb ik het zo gemaakt dat de verticale ax fracties aan geeft.\n",
    "plt.xlabel('x')           #geeft een naam aan de x as\n",
    "plt.axis([0,2,0,1.25])      #zo zitten er geen witte randen aan de linker en rechter kant\n",
    "plt.show()                #zo laat je de grafiek zien"
   ]
  },
  {
   "cell_type": "markdown",
   "metadata": {
    "deletable": false,
    "editable": false,
    "nbgrader": {
     "checksum": "da92092c0fc6badf93776373de6f98c0",
     "grade": false,
     "grade_id": "cell-9847a5147fc6bc0b",
     "locked": true,
     "schema_version": 1,
     "solution": false
    }
   },
   "source": [
    "#### f) [0.5 points] Make a scatter plot of `y` vs `z` with the label $y$ on the horizontal axis and the label $z$ on the vertical axis."
   ]
  },
  {
   "cell_type": "code",
   "execution_count": 93,
   "metadata": {
    "deletable": false,
    "nbgrader": {
     "checksum": "d9385c965608e0babffe255a7d375e19",
     "grade": true,
     "grade_id": "cell-6c036cfb38c024d3",
     "locked": false,
     "points": 0.5,
     "schema_version": 1,
     "solution": true
    }
   },
   "outputs": [
    {
     "data": {
      "image/png": "[encoded data removed]",
      "text/plain": [
       "<matplotlib.figure.Figure at 0x26c755e8b38>"
      ]
     },
     "metadata": {},
     "output_type": "display_data"
    }
   ],
   "source": [
    "scatterplot = plt.scatter(df['y'],df['z']) #hier maak ik een scatterplot waar ik y tegen z uit zet\n",
    "plt.xlabel('y')                            #hier geef ik een naam aan de x as\n",
    "plt.ylabel('z')                            #hier geef ik een naam aan de y as\n",
    "plt.show()                                 #hier laat ik de grafiek zien"
   ]
  },
  {
   "cell_type": "markdown",
   "metadata": {},
   "source": [
    "This relation looks rather \"perfect\". We want to make a \"noisy\" version of this graph.\n",
    "\n",
    "#### g) [0.5 points] Create a variable `z2` equal to `z` but with some \"noise\" added to it. That is, add a random variable (vector) with mean 0 to `z` to get `z2`. Then plot `y` against `z2`. Adjust the standard deviation of the \"noise\" variable such that the shape of the figure under f) can still be recognized but not perfectly.\n",
    "\n",
    "[hint: under a) you have seen the library that contains functions to create a \"noisy variable\"]"
   ]
  },
  {
   "cell_type": "code",
   "execution_count": 91,
   "metadata": {
    "deletable": false,
    "nbgrader": {
     "checksum": "86b22fc81cb0732c67f8ae691dc00bcb",
     "grade": true,
     "grade_id": "cell-7fa47e5d66a06417",
     "locked": false,
     "points": 0.5,
     "schema_version": 1,
     "solution": true
    }
   },
   "outputs": [
    {
     "data": {
      "image/png": "[encoded data removed]",
      "text/plain": [
       "<matplotlib.figure.Figure at 0x26c7500ab38>"
      ]
     },
     "metadata": {},
     "output_type": "display_data"
    }
   ],
   "source": [
    "noise = np.random.normal(0,0.1,100)    #hier maak ik een random variabele met mean 0 en een standard deviation van 0.1 zodat de grafiek vorm nog zichtbaar is.\n",
    "z2 = df['z'] + noise                   #hier tel ik de noise bij de waardes van z op\n",
    "scatterplot = plt.scatter(df['y'],z2) #hier maak ik een scatterplot waar ik y tegen z2 uit zet\n",
    "plt.xlabel('y')                            #hier geef ik een naam aan de x as\n",
    "plt.ylabel('z2')                            #hier geef ik een naam aan de y as\n",
    "plt.show()    "
   ]
  },
  {
   "cell_type": "markdown",
   "metadata": {},
   "source": [
    "## Github\n",
    "\n",
    "After you have finished, we need to upload this notebook on github."
   ]
  },
  {
   "cell_type": "markdown",
   "metadata": {},
   "source": [
    "Instructions on how to upload this on github can be found [on this page](http://janboone.github.io/programming-for-economists/github.html). This page has two screencasts: one shows how to drag the notebook onto your github page, the other shows how you can use the command line to upload your notebook.\n"
   ]
  },
  {
   "cell_type": "markdown",
   "metadata": {},
   "source": [
    "Remember to update the README file in your repository to include a link to this notebook on github.\n",
    "\n",
    "\n",
    "The links that you should post start with “github.com/” and are NOT of the form “http://localhost”. Make sure you test your links after uploading."
   ]
  },
  {
   "cell_type": "code",
   "execution_count": null,
   "metadata": {},
   "outputs": [],
   "source": []
  }
 ],
 "metadata": {
  "anaconda-cloud": {},
  "kernelspec": {
   "display_name": "Python 3",
   "language": "python",
   "name": "python3"
  },
  "language_info": {
   "codemirror_mode": {
    "name": "ipython",
    "version": 3
   },
   "file_extension": ".py",
   "mimetype": "text/x-python",
   "name": "python",
   "nbconvert_exporter": "python",
   "pygments_lexer": "ipython3",
   "version": "3.6.4"
  }
 },
 "nbformat": 4,
 "nbformat_minor": 1
}
